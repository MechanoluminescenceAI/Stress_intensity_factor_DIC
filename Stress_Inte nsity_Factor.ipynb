{
 "cells": [
  {
   "cell_type": "code",
   "execution_count": 22,
   "metadata": {
    "collapsed": true
   },
   "outputs": [],
   "source": []
  },
  {
   "cell_type": "code",
   "execution_count": 22,
   "outputs": [],
   "source": [],
   "metadata": {
    "collapsed": false,
    "pycharm": {
     "name": "#%%\n"
    }
   }
  },
  {
   "cell_type": "code",
   "execution_count": 23,
   "outputs": [],
   "source": [
    "import mat73\n",
    "import scipy\n",
    "from scipy import io\n",
    "import glob\n",
    "import numpy as np\n",
    "import h5py\n",
    "# import mat73\n",
    "import matplotlib.pyplot as plt\n",
    "import matplotlib.patches as patches\n",
    "import glob\n",
    "import os\n",
    "import pandas as pd\n",
    "import cv2\n",
    "from scipy.ndimage import gaussian_filter\n",
    "import matplotlib.ticker\n",
    "from sklearn.metrics import mean_absolute_error\n",
    "import math"
   ],
   "metadata": {
    "collapsed": false,
    "pycharm": {
     "name": "#%%\n"
    }
   }
  },
  {
   "cell_type": "code",
   "execution_count": 24,
   "outputs": [],
   "source": [
    "\n",
    "folder_path_48_led = 'D:\\\\ML_sheet\\\\strain_led_on\\\\raw_data_dic\\\\CTS\\\\48hr_sheet\\\\'\n",
    "folder_path_48_uv_on = 'D:\\\\ML_sheet\\\\strain_led_on\\\\raw_data_dic\\\\CTS\\\\48hr_sheet\\\\'\n",
    "# folder_path_96 = 'D:\\\\ML_sheet\\\\strain_led_on\\\\raw_data_dic\\\\raw_experiment_data_96\\\\'\n",
    "# folder_path_std = 'D:\\\\ML_sheet\\\\strain_led_on\\\\raw_data_dic\\\\Std_DIC\\\\'\n",
    "\n",
    "results_path = r'D:\\ML_sheet\\strain_led_on\\raw_data_dic\\CTS\\results/'"
   ],
   "metadata": {
    "collapsed": false,
    "pycharm": {
     "name": "#%%\n"
    }
   }
  },
  {
   "cell_type": "code",
   "execution_count": 25,
   "outputs": [],
   "source": [
    "def full_path(folder_path, data_type='eyy', magnification='30x_48'):\n",
    "\n",
    "    full_path = sorted(glob.glob(folder_path+ 'strain'+ '\\\\' +  data_type + '\\\\'+ str(magnification)+'\\\\*mat'),key=os.path.getmtime)\n",
    "\n",
    "    return full_path\n",
    "\n",
    "\n"
   ],
   "metadata": {
    "collapsed": false,
    "pycharm": {
     "name": "#%%\n"
    }
   }
  },
  {
   "cell_type": "code",
   "execution_count": 26,
   "outputs": [],
   "source": [
    "sigma =3\n",
    "\n",
    "def load_mat(path,data_type):## loading\n",
    "    data_mat = io.loadmat(path)[data_type]\n",
    "    data_mat= np.flip(data_mat, axis=1)\n",
    "    # x, y = np.nonzero(data_mat)\n",
    "    # xl, xr = x.min(),x.max()\n",
    "    # yl, yr = y.min(),y.max()\n",
    "    # data_mat = data_mat[xl:xr+1, yl:yr+1]\n",
    "    width = np.shape(data_mat)[1]\n",
    "    height = np.shape(data_mat)[0]\n",
    "    # data_mat = data_mat[30:height-50,2:width-2]\n",
    "    # data_mat = gaussian_filter(data_mat,sigma)\n",
    "    # mean_strain = np.mean(np.absolute(np.array(data_mat)))\n",
    "    # width = np.shape(data_mat)[1]\n",
    "    # height = np.shape(data_mat)[0]\n",
    "    mean2 = np.mean(data_mat)\n",
    "\n",
    "    return data_mat, mean2\n",
    "\n"
   ],
   "metadata": {
    "collapsed": false,
    "pycharm": {
     "name": "#%%\n"
    }
   }
  },
  {
   "cell_type": "code",
   "execution_count": 27,
   "outputs": [],
   "source": [
    "frame=0\n",
    "\n",
    "ox,oy = int((2330)/5), int(1400/5)\n"
   ],
   "metadata": {
    "collapsed": false,
    "pycharm": {
     "name": "#%% eyy]\n"
    }
   }
  },
  {
   "cell_type": "code",
   "execution_count": 28,
   "outputs": [],
   "source": [
    "## angles##\n",
    "th = np.arange(110,-120,-10)\n",
    "th_rad = np.deg2rad(th)\n",
    "x_near, x_far= 70, 120\n",
    "radius = np.arange(x_near,x_far, 10)\n",
    "\n",
    "index_cor = []\n",
    "th_rad_each_point = []\n",
    "for i in range(len(radius)):\n",
    "\n",
    "    for j in range(len(th_rad)):\n",
    "        y = int(radius[i]*np.sin(th_rad[j]))\n",
    "        x = int(radius[i]*np.cos(th_rad[j]))\n",
    "        th_rad_list = th_rad[j]\n",
    "        th_rad_each_point.append(th_rad_list)\n",
    "        xy = [x,y]\n",
    "        index_cor.append(xy)\n",
    "\n",
    "## find y coordinates based on x and theta (th)\n",
    "index_cor_crack_tip_origin = np.array(index_cor)\n",
    "th_rad_each_point =np.array(th_rad_each_point)\n",
    "\n",
    "## transform the origin from crack tip centre to original orig\n",
    "X_original = ox+(index_cor_crack_tip_origin [:,0])\n",
    "Y_original = oy-(index_cor_crack_tip_origin [:,1])\n",
    "\n",
    "# print(X_original[40])\n",
    "# print(Y_original[40])\n",
    "\n",
    "\n",
    "\n"
   ],
   "metadata": {
    "collapsed": false,
    "pycharm": {
     "name": "#%%\n"
    }
   }
  },
  {
   "cell_type": "code",
   "execution_count": 28,
   "outputs": [],
   "source": [],
   "metadata": {
    "collapsed": false,
    "pycharm": {
     "name": "#%%\n"
    }
   }
  },
  {
   "cell_type": "code",
   "execution_count": 29,
   "outputs": [],
   "source": [
    "def plot_contour_strain_points(folder_path, data_type='eyy', magnification='30x_48'):\n",
    "\n",
    "    figure_name = full_path(folder_path, data_type, magnification)[frame]\n",
    "    read_data = load_mat(figure_name,data_type)[0]\n",
    "    # read_data = read_data[oy-200:oy+100, ox-100:ox+100]\n",
    "    # read_data = gaussian_filter(read_data,sigma)\n",
    "    # read_data =  cv2.resize(read_data,(w_size,int(h_size)))\n",
    "    fig,ax = plt.subplots(figsize=(2000/100,1400/100),nrows=1,ncols=1)\n",
    "    shw = ax.contourf(read_data, 30, cmap='jet')\n",
    "    # ax.clabel(shw, inline=True, fontsize=10)\n",
    "    ax.plot(ox,oy,'o',markersize=5, color='k')\n",
    "    # ax.plot(1180,594,'*',markersize=20,color='w')\n",
    "    ax.plot(X_original, Y_original,'o',markersize=5, color='b')\n",
    "    # ax.plot(rc[:,1], rc[:,0],'o',markersize=2,color='r')\n",
    "    plt.axis('on')\n",
    "    ax.invert_yaxis()\n",
    "    ax.axis('on')\n",
    "    ax.set_aspect(aspect=1)\n",
    "\n",
    "    # fmt = matplotlib.ticker.ScalarFormatter(useMathText=True)\n",
    "    # fmt.set_powerlimits((0, 0))\n",
    "    bar = plt.colorbar(shw)\n",
    "\n",
    "    # bar.formatter.set_useMathText(True)\n",
    "    # bar.ax.tick_params(labelsize=40)\n",
    "    # bar.ax.yaxis.get_offset_text().set_fontsize(50)\n",
    "    #\n",
    "    # bar.ax.locator_params(nbins=5)\n",
    "        # ax.set_title('{}:{}'.format('frame',frame_item),fontsize=50,loc='lower left')\n",
    "    #fig.savefig(results_path+str('/')+str(frame)+str(data_type)+str(magnification)+'.jpg',bbox_inches='tight',pad_inches=0)\n",
    "    fig.show()\n",
    "\n",
    "\n",
    "\n",
    "\n",
    "def plot_contour_dis_points(folder_path, data_type='eyy', magnification='30x_48'):\n",
    "\n",
    "    figure_name = full_path(folder_path, data_type, magnification)[frame]\n",
    "    read_data = load_mat(figure_name,data_type)[0]\n",
    "    # read_data =  cv2.resize(read_data,(w_size,int(h_size)))\n",
    "    fig,ax = plt.subplots(figsize=(2000/100,1400/100),nrows=1,ncols=1)\n",
    "    shw = ax.contourf(read_data, 50, cmap='jet')\n",
    "    # ax.clabel(shw, inline=True, fontsize=10)\n",
    "    ax.plot(ox,oy,'o',markersize=5, color='k')\n",
    "    ax.plot(X_original, Y_original,'o',markersize=5, color='b')\n",
    "    # ax.plot(rc[:,1], rc[:,0],'o',markersize=2,color='r')\n",
    "\n",
    "\n",
    "    plt.axis('on')\n",
    "    ax.invert_yaxis()\n",
    "    ax.axis('on')\n",
    "    ax.set_aspect(aspect=1)\n",
    "\n",
    "    # fmt = matplotlib.ticker.ScalarFormatter(useMathText=True)\n",
    "    # fmt.set_powerlimits((0, 0))\n",
    "    bar = plt.colorbar(shw)\n",
    "\n",
    "    # bar.formatter.set_useMathText(True)\n",
    "    # bar.ax.tick_params(labelsize=40)\n",
    "    # bar.ax.yaxis.get_offset_text().set_fontsize(50)\n",
    "    #\n",
    "    # bar.ax.locator_params(nbins=5)\n",
    "        # ax.set_title('{}:{}'.format('frame',frame_item),fontsize=50,loc='lower left')\n",
    "    #fig.savefig(results_path+str('/')+str(frame)+str(data_type)+str(magnification)+'.jpg',bbox_inches='tight',pad_inches=0)\n",
    "    fig.show()"
   ],
   "metadata": {
    "collapsed": false,
    "pycharm": {
     "name": "#%%\n"
    }
   }
  },
  {
   "cell_type": "code",
   "execution_count": 30,
   "outputs": [],
   "source": [
    "# plot_contour_strain_points(folder_path_48_led , data_type='eyy', magnification='spary_corrected')\n",
    "# # plot_contour_strain(folder_path_48_uv_on, data_type='eyy', magnification='uv_on_48_1x_still')\n",
    "# # plot_contour_strain(folder_path_96, data_type='eyy', magnification='30x_96')\n",
    "# # plot_contour_strain(folder_path_std, data_type='eyy', magnification='standard')\n",
    "#\n",
    "# plot_contour_strain_points(folder_path_48_led , data_type='exx', magnification='spary_corrected')\n",
    "# # plot_contour_strain(folder_path_48_uv_on, data_type='exx', magnification='uv_on_48_1x_still')\n",
    "# # plot_contour_strain(folder_path_96, data_type='exx', magnification='30x_96')\n",
    "# # plot_contour_strain(folder_path_std, data_type='exx', magnification='standard')\n",
    "#\n",
    "# plot_contour_strain_points(folder_path_48_led , data_type='exy', magnification='spary_corrected')\n",
    "# # plot_contour_strain(folder_path_48_uv_on, data_type='exy', magnification='uv_on_48_1x_still')\n",
    "# # plot_contour_strain(folder_path_96, data_type='exy', magnification='30x_96')\n",
    "# # plot_contour_strain(folder_path_std, data_type='exy', magnification='standard')"
   ],
   "metadata": {
    "collapsed": false,
    "pycharm": {
     "name": "#%%\n"
    }
   }
  },
  {
   "cell_type": "code",
   "execution_count": 31,
   "outputs": [],
   "source": [
    "# plot_contour_dis_points(folder_path_48_led , data_type='u', magnification='spary_corrected')\n",
    "# plot_contour_dis(folder_path_48_uv_on, data_type='u', magnification='uv_on_48_1x_still')\n",
    "# # plot_contour_dis(folder_path_96, data_type='u', magnification='30x_96')\n",
    "# # plot_contour_dis(folder_path_std, data_type='u', magnification='standard')"
   ],
   "metadata": {
    "collapsed": false,
    "pycharm": {
     "name": "#%%\n"
    }
   }
  },
  {
   "cell_type": "code",
   "execution_count": 32,
   "outputs": [
    {
     "name": "stderr",
     "output_type": "stream",
     "text": [
      "c:\\users\\mechano\\anaconda3\\envs\\start_ml\\lib\\site-packages\\ipykernel_launcher.py:65: UserWarning: Matplotlib is currently using module://matplotlib_inline.backend_inline, which is a non-GUI backend, so cannot show the figure.\n"
     ]
    },
    {
     "data": {
      "text/plain": "<Figure size 1440x1008 with 2 Axes>",
      "image/png": "[encoded data removed]"
     },
     "metadata": {
      "needs_background": "light"
     },
     "output_type": "display_data"
    }
   ],
   "source": [
    "plot_contour_dis_points(folder_path_48_led , data_type='v', magnification='spary_corrected')\n",
    "# plot_contour_dis(folder_path_48_uv_on, data_type='v', magnification='uv_on_48_1x_still')\n",
    "# # plot_contour_dis(folder_path_96, data_type='v', magnification='30x_96')\n",
    "# # plot_contour_dis(folder_path_std, data_type='v', magnification='standard')"
   ],
   "metadata": {
    "collapsed": false,
    "pycharm": {
     "name": "#%%\n"
    }
   }
  },
  {
   "cell_type": "code",
   "execution_count": 33,
   "outputs": [
    {
     "name": "stdout",
     "output_type": "stream",
     "text": [
      "         KI       KII  mean_eyy\n",
      "0 -1.059198 -0.000005  0.142512\n",
      "#################Results##############################################################\n"
     ]
    }
   ],
   "source": [
    "frame_list = len(full_path(folder_path_48_led , data_type='eyy', magnification='spary_corrected'))\n",
    "\n",
    "KI = []\n",
    "KII = []\n",
    "eyy_mean =[]\n",
    "\n",
    "for frame in range(frame_list):\n",
    "\n",
    "\n",
    "    load_mat_eyy= load_mat(full_path(folder_path_48_led , data_type='eyy', magnification='spary_corrected')[frame],data_type='eyy')[0]\n",
    "    load_mat_exx= load_mat(full_path(folder_path_48_led , data_type='exx', magnification='spary_corrected')[frame],data_type='exx')[0]\n",
    "    load_mat_exy= load_mat(full_path(folder_path_48_led , data_type='exy', magnification='spary_corrected')[frame],data_type='exy')[0]\n",
    "    load_mat_u= load_mat(full_path(folder_path_48_led , data_type='u', magnification='spary_corrected')[frame],data_type='u')[0]\n",
    "    load_mat_v= load_mat(full_path(folder_path_48_led , data_type='v', magnification='spary_corrected')[frame],data_type='v')[0]\n",
    "    # print('value')\n",
    "    # print(XXX[744,1206])\n",
    "    #\n",
    "    # print(np.where(XXX==-2.9889573370093476))\n",
    "    extract_eyy = (load_mat_eyy[Y_original[:],X_original[:]])\n",
    "    extract_exx = (load_mat_exx[Y_original[:],X_original[:]])\n",
    "    extract_exy = (load_mat_exy[Y_original[:],X_original[:]])\n",
    "    extract_u = (load_mat_u[Y_original[:],X_original[:]])\n",
    "    extract_v = (load_mat_v[Y_original[:],X_original[:]])\n",
    "\n",
    "\n",
    "\n",
    "    n=1\n",
    "\n",
    "    pix_mm=2/30\n",
    "    x_cor = X_original\n",
    "    y_cor = Y_original\n",
    "    crack_tip_x=ox\n",
    "    crack_tip_y=oy\n",
    "    x_cor_crack_tip = x_cor-crack_tip_x\n",
    "    y_cor_crack_tip = y_cor-crack_tip_y\n",
    "    #pixel to mm to m\n",
    "    x_cor_crack_tip = x_cor_crack_tip * pix_mm * 10**(-3)\n",
    "    y_cor_crack_tip = y_cor_crack_tip * pix_mm * 10**(-3)\n",
    "\n",
    "\n",
    "    u_dis = extract_u  * 10**(-3)\n",
    "\n",
    "    v_dis = extract_v * 10**(-3)\n",
    "    Th_rad = th_rad_each_point\n",
    "\n",
    "    r = (x_cor_crack_tip**2 + y_cor_crack_tip**2)**(1/2)\n",
    "\n",
    "    v=0.33\n",
    "    E =3300*10**6 ## N/m2\n",
    "    meu = E/(2*(1+v))\n",
    "    X = (3-4*v) #(3-v)/(1+v)\n",
    "    ## calculate radius\n",
    "\n",
    "    ## get r and theta function for given series expansion\n",
    "    fI=[]\n",
    "    fII = []\n",
    "    gI = []\n",
    "    gII = []\n",
    "\n",
    "    for i in range(n):\n",
    "        for k in range(len(r)):\n",
    "            fI_rt = 1/(2*meu)*r[k]**((i+1)/2)*((X+(i+1)/2+(-1)**n*math.cos((i+1)/2*Th_rad[k])-(i+1)/2*math.cos(((i+1)/2-2)*Th_rad[k])))\n",
    "            fII_rt = 1/(2*meu)*r[k]**((i+1)/2)*((X+(i+1)/2-(-1)**n*math.sin((i+1)/2*Th_rad[k])-(i+1)/2*math.sin(((i+1)/2-2)*Th_rad[k])))\n",
    "            gI_rt = 1/(2*meu)*r[k]**((i+1)/2)*((X-(i+1)/2-(-1)**n*math.sin((i+1)/2*Th_rad[k])+(i+1)/2*math.sin(((i+1)/2-2)*Th_rad[k])))\n",
    "            gII_rt = 1/(2*meu)*r[k]**((i+1)/2)*((-X+(i+1)/2-(-1)**n*math.cos((i+1)/2*Th_rad[k])-(i+1)/2*math.cos(((i+1)/2-2)*Th_rad[k])))\n",
    "            fI.append(fI_rt)\n",
    "            fII.append(fII_rt)\n",
    "            gI.append(gI_rt)\n",
    "            gII.append(gII_rt)\n",
    "\n",
    "\n",
    " ####list to numpy array\n",
    "    fI_array = np.array(fI)\n",
    "\n",
    "    fII_array = np.array(fII)\n",
    "    gI_array = np.array(gI)\n",
    "    gII_array = np.array(gII)\n",
    "    ## reshape to number of series i.e n\n",
    "    fI_reshape = fI_array.reshape((-1,n))\n",
    "    fII_reshape = -fII_array.reshape((-1,n))\n",
    "    # print(fI_reshape.shape, fII_reshape.shape)\n",
    "    gI_reshape = gI_array.reshape((-1,n))\n",
    "    gII_reshape = -gII_array.reshape((-1,n))\n",
    "    f_hstack = np.hstack((fI_reshape,fII_reshape))\n",
    "    g_hstack = np.hstack((gI_reshape,gII_reshape))\n",
    "    f_g_vstack =  np.vstack((f_hstack,g_hstack))\n",
    "\n",
    "    one_column = np.ones(len(r))\n",
    "    zero_column = np.zeros(len(r))\n",
    "    one_zero_h_stack = np.hstack((one_column,zero_column))\n",
    "    one_zero_h_stack = np.expand_dims( one_zero_h_stack,axis=1)\n",
    "    zero_one_h_stack = np.hstack((zero_column,one_column))\n",
    "    zero_one_h_stack = np.expand_dims( zero_one_h_stack,axis=1)\n",
    "\n",
    "    # print(one_zero_h_stack)\n",
    "    # print(f_g_vstack)\n",
    "    fg_o_z_hstack = np.hstack((f_g_vstack,one_zero_h_stack))\n",
    "    fg_o_z_z_o_hstack = np.hstack((fg_o_z_hstack,zero_one_h_stack))\n",
    "    # print(fg_o_z_hstack)\n",
    "    y_x_v_stack = np.hstack((-y_cor_crack_tip,x_cor_crack_tip))\n",
    "\n",
    "    y_x_v_stack = np.expand_dims( y_x_v_stack,axis=1)\n",
    "\n",
    "    b = np.hstack((fg_o_z_z_o_hstack ,y_x_v_stack))\n",
    "\n",
    "\n",
    "    h = np.hstack((u_dis,v_dis))\n",
    "    results = np.linalg.inv(np.transpose(b) @ b) @ np.transpose(b) @ h\n",
    "    pi = math.pi\n",
    "    k1 = results[0] * (2*pi)**(1/2) / 10**(6)  ## Mpam1/2\n",
    "    k2 = results[n] * (2*pi)**(1/2) / 10**(6)## Mpam1/2\n",
    "    Tx = results[-3] * 10**3\n",
    "    Ty = results[-2]* 10**3\n",
    "    R = results[-1]\n",
    "    KI.append(k1)\n",
    "    KII.append(k2)\n",
    "    eyy_mean.append((np.mean(extract_eyy))*100.)\n",
    "\n",
    "\n",
    "result_df = pd.DataFrame({'KI':KI,'KII':KII,'mean_eyy':eyy_mean})\n",
    "#result_df.to_excel(results_path+'spary_corrected.xlsx')\n",
    "print(result_df)\n",
    "\n",
    "\n",
    "print('#################Results##############################################################')"
   ],
   "metadata": {
    "collapsed": false,
    "pycharm": {
     "name": "#%%%\n"
    }
   }
  },
  {
   "cell_type": "code",
   "execution_count": 33,
   "outputs": [],
   "source": [
    "\n",
    "\n"
   ],
   "metadata": {
    "collapsed": false,
    "pycharm": {
     "name": "#%%\n"
    }
   }
  },
  {
   "cell_type": "code",
   "execution_count": 33,
   "outputs": [],
   "source": [],
   "metadata": {
    "collapsed": false,
    "pycharm": {
     "name": "#%%\n"
    }
   }
  }
 ],
 "metadata": {
  "kernelspec": {
   "display_name": "Python 3",
   "language": "python",
   "name": "python3"
  },
  "language_info": {
   "codemirror_mode": {
    "name": "ipython",
    "version": 2
   },
   "file_extension": ".py",
   "mimetype": "text/x-python",
   "name": "python",
   "nbconvert_exporter": "python",
   "pygments_lexer": "ipython2",
   "version": "2.7.6"
  }
 },
 "nbformat": 4,
 "nbformat_minor": 0
}